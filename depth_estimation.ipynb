{
 "cells": [
  {
   "cell_type": "code",
   "execution_count": 8,
   "id": "faf5429b-1975-4823-bf6e-225ef52bbf06",
   "metadata": {},
   "outputs": [],
   "source": [
    "import cv2\n",
    "import pyrealsense2\n",
    "from realsense_depth import *"
   ]
  },
  {
   "cell_type": "code",
   "execution_count": 9,
   "id": "4f340047-d75c-4899-8e5b-c3388df7417d",
   "metadata": {},
   "outputs": [],
   "source": [
    "point = (400, 300)\n",
    "\n",
    "def show_distance(event, x, y, args, params):\n",
    "    global point\n",
    "    point = (x, y)"
   ]
  },
  {
   "cell_type": "code",
   "execution_count": 10,
   "id": "1a892021-3f9a-491c-a782-5d9c72890f92",
   "metadata": {},
   "outputs": [
    {
     "ename": "RuntimeError",
     "evalue": "No device connected",
     "output_type": "error",
     "traceback": [
      "\u001b[1;31m---------------------------------------------------------------------------\u001b[0m",
      "\u001b[1;31mRuntimeError\u001b[0m                              Traceback (most recent call last)",
      "Cell \u001b[1;32mIn[10], line 2\u001b[0m\n\u001b[0;32m      1\u001b[0m \u001b[38;5;66;03m# Initialize Camera Intel Realsense\u001b[39;00m\n\u001b[1;32m----> 2\u001b[0m dc \u001b[38;5;241m=\u001b[39m \u001b[43mDepthCamera\u001b[49m\u001b[43m(\u001b[49m\u001b[43m)\u001b[49m\n\u001b[0;32m      4\u001b[0m \u001b[38;5;66;03m# Create mouse event\u001b[39;00m\n\u001b[0;32m      5\u001b[0m cv2\u001b[38;5;241m.\u001b[39mnamedWindow(\u001b[38;5;124m\"\u001b[39m\u001b[38;5;124mColor frame\u001b[39m\u001b[38;5;124m\"\u001b[39m)\n",
      "File \u001b[1;32mD:\\jupyter\\mBot\\realsense_depth.py:12\u001b[0m, in \u001b[0;36mDepthCamera.__init__\u001b[1;34m(self)\u001b[0m\n\u001b[0;32m     10\u001b[0m \u001b[38;5;66;03m# Get device product line for setting a supporting resolution\u001b[39;00m\n\u001b[0;32m     11\u001b[0m pipeline_wrapper \u001b[38;5;241m=\u001b[39m rs\u001b[38;5;241m.\u001b[39mpipeline_wrapper(\u001b[38;5;28mself\u001b[39m\u001b[38;5;241m.\u001b[39mpipeline)\n\u001b[1;32m---> 12\u001b[0m pipeline_profile \u001b[38;5;241m=\u001b[39m \u001b[43mconfig\u001b[49m\u001b[38;5;241;43m.\u001b[39;49m\u001b[43mresolve\u001b[49m\u001b[43m(\u001b[49m\u001b[43mpipeline_wrapper\u001b[49m\u001b[43m)\u001b[49m\n\u001b[0;32m     13\u001b[0m device \u001b[38;5;241m=\u001b[39m pipeline_profile\u001b[38;5;241m.\u001b[39mget_device()\n\u001b[0;32m     14\u001b[0m device_product_line \u001b[38;5;241m=\u001b[39m \u001b[38;5;28mstr\u001b[39m(device\u001b[38;5;241m.\u001b[39mget_info(rs\u001b[38;5;241m.\u001b[39mcamera_info\u001b[38;5;241m.\u001b[39mproduct_line))\n",
      "\u001b[1;31mRuntimeError\u001b[0m: No device connected"
     ]
    }
   ],
   "source": [
    "# Initialize Camera Intel Realsense\n",
    "dc = DepthCamera()\n",
    "\n",
    "# Create mouse event\n",
    "cv2.namedWindow(\"Color frame\")\n",
    "cv2.setMouseCallback(\"Color frame\", show_distance)\n",
    "\n",
    "while True:\n",
    "    ret, depth_frame, color_frame = dc.get_frame()\n",
    "\n",
    "    # Show distance for a specific point\n",
    "    cv2.circle(color_frame, point, 4, (0, 0, 255))\n",
    "    distance = depth_frame[point[1], point[0]]\n",
    "\n",
    "    cv2.putText(color_frame, \"{}mm\".format(distance), (point[0], point[1] - 20), cv2.FONT_HERSHEY_PLAIN, 2, (0, 0, 0), 2)\n",
    "\n",
    "    cv2.imshow(\"depth frame\", depth_frame)\n",
    "    cv2.imshow(\"Color frame\", color_frame)\n",
    "    key = cv2.waitKey(1)\n",
    "    if key == 27:\n",
    "        break"
   ]
  },
  {
   "cell_type": "code",
   "execution_count": null,
   "id": "2ac16c56-647e-45a8-a7c1-eda3cae5ad39",
   "metadata": {},
   "outputs": [],
   "source": [
    "  "
   ]
  }
 ],
 "metadata": {
  "kernelspec": {
   "display_name": "Python 3 (ipykernel)",
   "language": "python",
   "name": "python3"
  },
  "language_info": {
   "codemirror_mode": {
    "name": "ipython",
    "version": 3
   },
   "file_extension": ".py",
   "mimetype": "text/x-python",
   "name": "python",
   "nbconvert_exporter": "python",
   "pygments_lexer": "ipython3",
   "version": "3.11.4"
  }
 },
 "nbformat": 4,
 "nbformat_minor": 5
}
